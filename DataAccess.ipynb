{
 "cells": [
  {
   "cell_type": "markdown",
   "metadata": {},
   "source": [
    "# Data Access Notebook"
   ]
  },
  {
   "cell_type": "code",
   "execution_count": 18,
   "metadata": {},
   "outputs": [],
   "source": [
    "import pandas as pd"
   ]
  },
  {
   "cell_type": "markdown",
   "metadata": {},
   "source": [
    "## Project Gutenberg"
   ]
  },
  {
   "cell_type": "markdown",
   "metadata": {},
   "source": [
    "Visit the [homepage](https://www.gutenberg.org/) for Project Gutenberg if you are having trouble finding a specific book.\n",
    "\n",
    "Usage documentation for the Python package can be found [here](https://pypi.org/project/Gutenberg/)."
   ]
  },
  {
   "cell_type": "code",
   "execution_count": 67,
   "metadata": {},
   "outputs": [],
   "source": [
    "from gutenberg.acquire import load_etext\n",
    "from gutenberg.cleanup import strip_headers\n",
    "\n",
    "text = strip_headers(load_etext(11)).strip()\n",
    "#print(text)"
   ]
  },
  {
   "cell_type": "markdown",
   "metadata": {},
   "source": [
    "### Simple Example"
   ]
  },
  {
   "cell_type": "code",
   "execution_count": 20,
   "metadata": {},
   "outputs": [],
   "source": [
    "books = [[1342,\"Pride and Prejudice\",\"Jane Austen\"],\n",
    "         [11,\"Alice's Adventures in Wonderland\", \"Lewis Carroll\"],\n",
    "         [2701,\"Moby Dick; Or, The Whale\",\"Herman Melville\"],\n",
    "         [84,\"Frankenstein; Or, The Modern Prometheus\", \"Mary Wollenstonecraft Shelley\" ],\n",
    "         [345,\"Dracula\", \"Bram Stoker\"]\n",
    "        ]"
   ]
  },
  {
   "cell_type": "code",
   "execution_count": 24,
   "metadata": {},
   "outputs": [
    {
     "data": {
      "text/html": [
       "<div>\n",
       "<style scoped>\n",
       "    .dataframe tbody tr th:only-of-type {\n",
       "        vertical-align: middle;\n",
       "    }\n",
       "\n",
       "    .dataframe tbody tr th {\n",
       "        vertical-align: top;\n",
       "    }\n",
       "\n",
       "    .dataframe thead th {\n",
       "        text-align: right;\n",
       "    }\n",
       "</style>\n",
       "<table border=\"1\" class=\"dataframe\">\n",
       "  <thead>\n",
       "    <tr style=\"text-align: right;\">\n",
       "      <th></th>\n",
       "      <th>ID</th>\n",
       "      <th>Title</th>\n",
       "      <th>Author</th>\n",
       "      <th>FullText</th>\n",
       "    </tr>\n",
       "  </thead>\n",
       "  <tbody>\n",
       "    <tr>\n",
       "      <th>0</th>\n",
       "      <td>1342</td>\n",
       "      <td>Pride and Prejudice</td>\n",
       "      <td>Jane Austen</td>\n",
       "      <td>THERE IS AN ILLUSTRATED EDITION OF THIS TITLE ...</td>\n",
       "    </tr>\n",
       "    <tr>\n",
       "      <th>1</th>\n",
       "      <td>11</td>\n",
       "      <td>Alice's Adventures in Wonderland</td>\n",
       "      <td>Lewis Carroll</td>\n",
       "      <td>[Illustration]\\n\\n\\n\\n\\nAlice’s Adventures in ...</td>\n",
       "    </tr>\n",
       "    <tr>\n",
       "      <th>2</th>\n",
       "      <td>2701</td>\n",
       "      <td>Moby Dick; Or, The Whale</td>\n",
       "      <td>Herman Melville</td>\n",
       "      <td>MOBY-DICK;\\n\\nor, THE WHALE.\\n\\nBy Herman Melv...</td>\n",
       "    </tr>\n",
       "    <tr>\n",
       "      <th>3</th>\n",
       "      <td>84</td>\n",
       "      <td>Frankenstein; Or, The Modern Prometheus</td>\n",
       "      <td>Mary Wollenstonecraft Shelley</td>\n",
       "      <td>and David Meltzer. HTML version by Al Haines.\\...</td>\n",
       "    </tr>\n",
       "    <tr>\n",
       "      <th>4</th>\n",
       "      <td>345</td>\n",
       "      <td>Dracula</td>\n",
       "      <td>Bram Stoker</td>\n",
       "      <td>DRACULA\\n\\n\\n\\n\\n\\n                           ...</td>\n",
       "    </tr>\n",
       "  </tbody>\n",
       "</table>\n",
       "</div>"
      ],
      "text/plain": [
       "     ID                                    Title  \\\n",
       "0  1342                      Pride and Prejudice   \n",
       "1    11         Alice's Adventures in Wonderland   \n",
       "2  2701                 Moby Dick; Or, The Whale   \n",
       "3    84  Frankenstein; Or, The Modern Prometheus   \n",
       "4   345                                  Dracula   \n",
       "\n",
       "                          Author  \\\n",
       "0                    Jane Austen   \n",
       "1                  Lewis Carroll   \n",
       "2                Herman Melville   \n",
       "3  Mary Wollenstonecraft Shelley   \n",
       "4                    Bram Stoker   \n",
       "\n",
       "                                            FullText  \n",
       "0  THERE IS AN ILLUSTRATED EDITION OF THIS TITLE ...  \n",
       "1  [Illustration]\\n\\n\\n\\n\\nAlice’s Adventures in ...  \n",
       "2  MOBY-DICK;\\n\\nor, THE WHALE.\\n\\nBy Herman Melv...  \n",
       "3  and David Meltzer. HTML version by Al Haines.\\...  \n",
       "4  DRACULA\\n\\n\\n\\n\\n\\n                           ...  "
      ]
     },
     "execution_count": 24,
     "metadata": {},
     "output_type": "execute_result"
    }
   ],
   "source": [
    "gutenDF = pd.DataFrame(books, columns=['ID','Title','Author'])\n",
    "gutenDF['FullText']=gutenDF.apply(lambda row: strip_headers(load_etext(row['ID'])).strip() , axis=1)\n",
    "gutenDF"
   ]
  },
  {
   "cell_type": "markdown",
   "metadata": {},
   "source": [
    "### MetaData and Caching"
   ]
  },
  {
   "cell_type": "markdown",
   "metadata": {},
   "source": [
    "If you plan on doing a lot of work with Project Gutenberg's metadata functionality, you'll need to cache their metadata first. This can take a very long time but makes it possible to query their metadata quickly."
   ]
  },
  {
   "cell_type": "raw",
   "metadata": {},
   "source": [
    "from gutenberg.acquire import get_metadata_cache\n",
    "cache = get_metadata_cache()\n",
    "cache.populate()"
   ]
  },
  {
   "cell_type": "raw",
   "metadata": {},
   "source": [
    "from gutenberg.query import get_etexts\n",
    "from gutenberg.query import get_metadata\n",
    "\n",
    "print(get_metadata('title', 11))  # prints frozenset([u'Moby Dick; Or, The Whale'])\n",
    "print(get_metadata('author', 11)) # prints frozenset([u'Melville, Hermann'])\n",
    "\n",
    "print(get_etexts('title', 'Moby Dick; Or, The Whale'))  # prints frozenset([2701, ...])\n",
    "print(get_etexts('author', 'Melville, Hermann'))        # prints frozenset([2701, ...])\n"
   ]
  },
  {
   "cell_type": "markdown",
   "metadata": {},
   "source": [
    "## EDGAR Database"
   ]
  },
  {
   "cell_type": "markdown",
   "metadata": {},
   "source": [
    "Here is the [homepage](https://www.sec.gov/edgar.shtml) for the Securities and Exchange Commission's EDGAR database. If you are having trouble finding a specific company, try their [full text search](https://www.sec.gov/edgar/search/#).\n",
    "\n",
    "Usage documentation for the Python package can be found [here](https://pypi.org/project/edgar/)."
   ]
  },
  {
   "cell_type": "markdown",
   "metadata": {},
   "source": [
    "Pull the last 5 10-K reports for the Oracle Corporation"
   ]
  },
  {
   "cell_type": "code",
   "execution_count": 48,
   "metadata": {},
   "outputs": [],
   "source": [
    "from edgar import Company, TXTML\n",
    "company = Company(\"Oracle Corp\", \"0001341439\")\n",
    "tree = company.get_all_filings(filing_type = \"10-K\")\n",
    "docs = Company.get_documents(tree, no_of_documents=5)"
   ]
  },
  {
   "cell_type": "markdown",
   "metadata": {},
   "source": [
    "Parse the most recent 10-K filing for IBM"
   ]
  },
  {
   "cell_type": "code",
   "execution_count": 49,
   "metadata": {},
   "outputs": [],
   "source": [
    "company = Company(\"INTERNATIONAL BUSINESS MACHINES CORP\", \"0000051143\")\n",
    "doc = company.get_10K()\n",
    "text = TXTML.parse_full_10K(doc)"
   ]
  },
  {
   "cell_type": "markdown",
   "metadata": {},
   "source": [
    "Search EDGAR for a company Cisco System"
   ]
  },
  {
   "cell_type": "code",
   "execution_count": 50,
   "metadata": {},
   "outputs": [
    {
     "data": {
      "text/plain": [
       "['CISCO SYSTEMS (SWITZERLAND) INVESTMENTS LTD',\n",
       " 'CISCO SYSTEMS CAPITAL CORP',\n",
       " 'CISCO SYSTEMS INC',\n",
       " 'CISCO SYSTEMS INTERNATIONAL B.V.',\n",
       " 'CISCO SYSTEMS, INC.',\n",
       " 'SPANISH BROADCASTING SYSTEM SAN FRANCISCO INC']"
      ]
     },
     "execution_count": 50,
     "metadata": {},
     "output_type": "execute_result"
    }
   ],
   "source": [
    "from edgar import Edgar\n",
    "edgar = Edgar()\n",
    "possible_companies = edgar.find_company_name(\"Cisco System\")\n",
    "possible_companies"
   ]
  },
  {
   "cell_type": "markdown",
   "metadata": {},
   "source": [
    "### Simple Example"
   ]
  },
  {
   "cell_type": "code",
   "execution_count": 51,
   "metadata": {},
   "outputs": [],
   "source": [
    "companies = [['AMAZON COM INC','0001018724'],\n",
    "            ['Alphabet Inc.','0001652044'],\n",
    "            ['MICROSOFT CORP','0000789019']\n",
    "            ]"
   ]
  },
  {
   "cell_type": "code",
   "execution_count": 52,
   "metadata": {},
   "outputs": [
    {
     "data": {
      "text/html": [
       "<div>\n",
       "<style scoped>\n",
       "    .dataframe tbody tr th:only-of-type {\n",
       "        vertical-align: middle;\n",
       "    }\n",
       "\n",
       "    .dataframe tbody tr th {\n",
       "        vertical-align: top;\n",
       "    }\n",
       "\n",
       "    .dataframe thead th {\n",
       "        text-align: right;\n",
       "    }\n",
       "</style>\n",
       "<table border=\"1\" class=\"dataframe\">\n",
       "  <thead>\n",
       "    <tr style=\"text-align: right;\">\n",
       "      <th></th>\n",
       "      <th>Company</th>\n",
       "      <th>CIK</th>\n",
       "      <th>MostRecent_10K</th>\n",
       "    </tr>\n",
       "  </thead>\n",
       "  <tbody>\n",
       "    <tr>\n",
       "      <th>0</th>\n",
       "      <td>AMAZON COM INC</td>\n",
       "      <td>0001018724</td>\n",
       "      <td>\\n\\n\\n\\n\\n\\n\\n\\n\\t\\n\\t\\t\\n\\t\\tDocument\\n\\t\\n\\t...</td>\n",
       "    </tr>\n",
       "    <tr>\n",
       "      <th>1</th>\n",
       "      <td>Alphabet Inc.</td>\n",
       "      <td>0001652044</td>\n",
       "      <td>\\n\\n\\n\\n\\n\\n\\n\\n\\t\\n\\t\\t\\n\\t\\tDocument\\n\\t\\n\\t...</td>\n",
       "    </tr>\n",
       "    <tr>\n",
       "      <th>2</th>\n",
       "      <td>MICROSOFT CORP</td>\n",
       "      <td>0000789019</td>\n",
       "      <td>\\n\\n\\n\\n\\n\\n\\n\\n\\n\\n\\n\\nmsft-10k_20200630.htm\\...</td>\n",
       "    </tr>\n",
       "  </tbody>\n",
       "</table>\n",
       "</div>"
      ],
      "text/plain": [
       "          Company         CIK  \\\n",
       "0  AMAZON COM INC  0001018724   \n",
       "1   Alphabet Inc.  0001652044   \n",
       "2  MICROSOFT CORP  0000789019   \n",
       "\n",
       "                                      MostRecent_10K  \n",
       "0  \\n\\n\\n\\n\\n\\n\\n\\n\\t\\n\\t\\t\\n\\t\\tDocument\\n\\t\\n\\t...  \n",
       "1  \\n\\n\\n\\n\\n\\n\\n\\n\\t\\n\\t\\t\\n\\t\\tDocument\\n\\t\\n\\t...  \n",
       "2  \\n\\n\\n\\n\\n\\n\\n\\n\\n\\n\\n\\nmsft-10k_20200630.htm\\...  "
      ]
     },
     "execution_count": 52,
     "metadata": {},
     "output_type": "execute_result"
    }
   ],
   "source": [
    "edgarDF = pd.DataFrame(companies, columns=['Company','CIK'])\n",
    "edgarDF['MostRecent_10K']=edgarDF.apply(lambda row: TXTML.parse_full_10K(Company(row['Company'],row['CIK']).get_10K()) , axis=1)\n",
    "edgarDF"
   ]
  },
  {
   "cell_type": "markdown",
   "metadata": {},
   "source": [
    "## Hansard"
   ]
  },
  {
   "cell_type": "code",
   "execution_count": null,
   "metadata": {},
   "outputs": [],
   "source": []
  },
  {
   "cell_type": "code",
   "execution_count": null,
   "metadata": {},
   "outputs": [],
   "source": []
  },
  {
   "cell_type": "markdown",
   "metadata": {},
   "source": [
    "## US Congress"
   ]
  },
  {
   "cell_type": "markdown",
   "metadata": {},
   "source": [
    "Data pulled via shell script (congress_download.sh) from [Stanford's Congressional Record](https://data.stanford.edu/congress_text) and is available on M2. If you use this data, please use the proper citation for the dataset."
   ]
  },
  {
   "cell_type": "code",
   "execution_count": 68,
   "metadata": {},
   "outputs": [],
   "source": [
    "import glob"
   ]
  },
  {
   "cell_type": "code",
   "execution_count": 69,
   "metadata": {},
   "outputs": [],
   "source": [
    "path_to_congress = \"/scratch/group/oit_research_data/stanford_congress\""
   ]
  },
  {
   "cell_type": "code",
   "execution_count": 72,
   "metadata": {},
   "outputs": [
    {
     "data": {
      "text/plain": [
       "['/scratch/group/oit_research_data/stanford_congress/__MACOSX',\n",
       " '/scratch/group/oit_research_data/stanford_congress/speakermap_stats',\n",
       " '/scratch/group/oit_research_data/stanford_congress/keywords.txt',\n",
       " '/scratch/group/oit_research_data/stanford_congress/topic_phrases.txt',\n",
       " '/scratch/group/oit_research_data/stanford_congress/congress_download.sh',\n",
       " '/scratch/group/oit_research_data/stanford_congress/vocabulary',\n",
       " '/scratch/group/oit_research_data/stanford_congress/hein-daily',\n",
       " '/scratch/group/oit_research_data/stanford_congress/false_matches.txt',\n",
       " '/scratch/group/oit_research_data/stanford_congress/party_full',\n",
       " '/scratch/group/oit_research_data/stanford_congress/partisan_phrases',\n",
       " '/scratch/group/oit_research_data/stanford_congress/hein-bound',\n",
       " '/scratch/group/oit_research_data/stanford_congress/audit']"
      ]
     },
     "execution_count": 72,
     "metadata": {},
     "output_type": "execute_result"
    }
   ],
   "source": [
    "glob.glob('{}/*'.format(path_to_congress))"
   ]
  },
  {
   "cell_type": "markdown",
   "metadata": {},
   "source": [
    "If you want to know how to best use this dataset, we suggest you read the codebook found [here](https://stacks.stanford.edu/file/druid:md374tz9962/codebook_v4.pdf)"
   ]
  },
  {
   "cell_type": "markdown",
   "metadata": {},
   "source": [
    "## COVID-19 Text Data"
   ]
  },
  {
   "cell_type": "markdown",
   "metadata": {},
   "source": [
    "Data pulled via shell script (congress_download.sh) from [MIT's COVID-19 Open Research Dataset](https://innovation.mit.edu/cord19/) and is available on M2. If you use this data, please use the proper citation for the dataset."
   ]
  },
  {
   "cell_type": "code",
   "execution_count": 200,
   "metadata": {},
   "outputs": [],
   "source": [
    "import glob\n",
    "import json"
   ]
  },
  {
   "cell_type": "code",
   "execution_count": 201,
   "metadata": {},
   "outputs": [],
   "source": [
    "date = '2020-08-23'"
   ]
  },
  {
   "cell_type": "code",
   "execution_count": 202,
   "metadata": {},
   "outputs": [],
   "source": [
    "path_to_covid = \"/scratch/group/oit_research_data/semantic_scholar_cord_19/\"+date"
   ]
  },
  {
   "cell_type": "code",
   "execution_count": 203,
   "metadata": {},
   "outputs": [
    {
     "data": {
      "text/plain": [
       "['/scratch/group/oit_research_data/semantic_scholar_cord_19/2020-08-23/document_parses',\n",
       " '/scratch/group/oit_research_data/semantic_scholar_cord_19/2020-08-23/cord_19_embeddings_2020-08-23.csv',\n",
       " '/scratch/group/oit_research_data/semantic_scholar_cord_19/2020-08-23/changelog',\n",
       " '/scratch/group/oit_research_data/semantic_scholar_cord_19/2020-08-23/metadata.csv']"
      ]
     },
     "execution_count": 203,
     "metadata": {},
     "output_type": "execute_result"
    }
   ],
   "source": [
    "glob.glob('{}/*'.format(path_to_covid))"
   ]
  },
  {
   "cell_type": "code",
   "execution_count": 204,
   "metadata": {},
   "outputs": [
    {
     "data": {
      "text/html": [
       "<div>\n",
       "<style scoped>\n",
       "    .dataframe tbody tr th:only-of-type {\n",
       "        vertical-align: middle;\n",
       "    }\n",
       "\n",
       "    .dataframe tbody tr th {\n",
       "        vertical-align: top;\n",
       "    }\n",
       "\n",
       "    .dataframe thead th {\n",
       "        text-align: right;\n",
       "    }\n",
       "</style>\n",
       "<table border=\"1\" class=\"dataframe\">\n",
       "  <thead>\n",
       "    <tr style=\"text-align: right;\">\n",
       "      <th></th>\n",
       "      <th>cord_uid</th>\n",
       "      <th>sha</th>\n",
       "      <th>source_x</th>\n",
       "      <th>title</th>\n",
       "      <th>doi</th>\n",
       "      <th>pmcid</th>\n",
       "      <th>pubmed_id</th>\n",
       "      <th>license</th>\n",
       "      <th>abstract</th>\n",
       "      <th>publish_time</th>\n",
       "      <th>authors</th>\n",
       "      <th>journal</th>\n",
       "      <th>mag_id</th>\n",
       "      <th>who_covidence_id</th>\n",
       "      <th>arxiv_id</th>\n",
       "      <th>pdf_json_files</th>\n",
       "      <th>pmc_json_files</th>\n",
       "      <th>url</th>\n",
       "      <th>s2_id</th>\n",
       "    </tr>\n",
       "  </thead>\n",
       "  <tbody>\n",
       "    <tr>\n",
       "      <th>0</th>\n",
       "      <td>ug7v899j</td>\n",
       "      <td>d1aafb70c066a2068b02786f8929fd9c900897fb</td>\n",
       "      <td>PMC</td>\n",
       "      <td>Clinical features of culture-proven Mycoplasma...</td>\n",
       "      <td>10.1186/1471-2334-1-6</td>\n",
       "      <td>PMC35282</td>\n",
       "      <td>11472636</td>\n",
       "      <td>no-cc</td>\n",
       "      <td>OBJECTIVE: This retrospective chart review des...</td>\n",
       "      <td>2001-07-04</td>\n",
       "      <td>Madani, Tariq A; Al-Ghamdi, Aisha A</td>\n",
       "      <td>BMC Infect Dis</td>\n",
       "      <td>NaN</td>\n",
       "      <td>NaN</td>\n",
       "      <td>NaN</td>\n",
       "      <td>document_parses/pdf_json/d1aafb70c066a2068b027...</td>\n",
       "      <td>document_parses/pmc_json/PMC35282.xml.json</td>\n",
       "      <td>https://www.ncbi.nlm.nih.gov/pmc/articles/PMC3...</td>\n",
       "      <td>NaN</td>\n",
       "    </tr>\n",
       "    <tr>\n",
       "      <th>1</th>\n",
       "      <td>02tnwd4m</td>\n",
       "      <td>6b0567729c2143a66d737eb0a2f63f2dce2e5a7d</td>\n",
       "      <td>PMC</td>\n",
       "      <td>Nitric oxide: a pro-inflammatory mediator in l...</td>\n",
       "      <td>10.1186/rr14</td>\n",
       "      <td>PMC59543</td>\n",
       "      <td>11667967</td>\n",
       "      <td>no-cc</td>\n",
       "      <td>Inflammatory diseases of the respiratory tract...</td>\n",
       "      <td>2000-08-15</td>\n",
       "      <td>Vliet, Albert van der; Eiserich, Jason P; Cros...</td>\n",
       "      <td>Respir Res</td>\n",
       "      <td>NaN</td>\n",
       "      <td>NaN</td>\n",
       "      <td>NaN</td>\n",
       "      <td>document_parses/pdf_json/6b0567729c2143a66d737...</td>\n",
       "      <td>document_parses/pmc_json/PMC59543.xml.json</td>\n",
       "      <td>https://www.ncbi.nlm.nih.gov/pmc/articles/PMC5...</td>\n",
       "      <td>NaN</td>\n",
       "    </tr>\n",
       "  </tbody>\n",
       "</table>\n",
       "</div>"
      ],
      "text/plain": [
       "   cord_uid                                       sha source_x  \\\n",
       "0  ug7v899j  d1aafb70c066a2068b02786f8929fd9c900897fb      PMC   \n",
       "1  02tnwd4m  6b0567729c2143a66d737eb0a2f63f2dce2e5a7d      PMC   \n",
       "\n",
       "                                               title                    doi  \\\n",
       "0  Clinical features of culture-proven Mycoplasma...  10.1186/1471-2334-1-6   \n",
       "1  Nitric oxide: a pro-inflammatory mediator in l...           10.1186/rr14   \n",
       "\n",
       "      pmcid pubmed_id license  \\\n",
       "0  PMC35282  11472636   no-cc   \n",
       "1  PMC59543  11667967   no-cc   \n",
       "\n",
       "                                            abstract publish_time  \\\n",
       "0  OBJECTIVE: This retrospective chart review des...   2001-07-04   \n",
       "1  Inflammatory diseases of the respiratory tract...   2000-08-15   \n",
       "\n",
       "                                             authors         journal mag_id  \\\n",
       "0                Madani, Tariq A; Al-Ghamdi, Aisha A  BMC Infect Dis    NaN   \n",
       "1  Vliet, Albert van der; Eiserich, Jason P; Cros...      Respir Res    NaN   \n",
       "\n",
       "  who_covidence_id arxiv_id  \\\n",
       "0              NaN      NaN   \n",
       "1              NaN      NaN   \n",
       "\n",
       "                                      pdf_json_files  \\\n",
       "0  document_parses/pdf_json/d1aafb70c066a2068b027...   \n",
       "1  document_parses/pdf_json/6b0567729c2143a66d737...   \n",
       "\n",
       "                               pmc_json_files  \\\n",
       "0  document_parses/pmc_json/PMC35282.xml.json   \n",
       "1  document_parses/pmc_json/PMC59543.xml.json   \n",
       "\n",
       "                                                 url s2_id  \n",
       "0  https://www.ncbi.nlm.nih.gov/pmc/articles/PMC3...   NaN  \n",
       "1  https://www.ncbi.nlm.nih.gov/pmc/articles/PMC5...   NaN  "
      ]
     },
     "execution_count": 204,
     "metadata": {},
     "output_type": "execute_result"
    }
   ],
   "source": [
    "metadata = pd.read_csv('{}/metadata.csv'.format(path_to_covid), dtype=object)\n",
    "metadata.head(2)"
   ]
  },
  {
   "cell_type": "markdown",
   "metadata": {},
   "source": [
    "Here we have provided a function that will take the associated files for each row in our metadata table and read those files in."
   ]
  },
  {
   "cell_type": "code",
   "execution_count": 205,
   "metadata": {},
   "outputs": [],
   "source": [
    "def read_text_from_json(row,path=path_to_covid):\n",
    "    \n",
    "    file_pdf_json = '{}/{}'.format(path, row['pdf_json_files'])\n",
    "    file_pmc_json = '{}/{}'.format(path, row['pmc_json_files'])\n",
    "    \n",
    "    read = False\n",
    "    \n",
    "    try:\n",
    "        with open(file_pdf_json) as f:\n",
    "            text = json.load(f)\n",
    "            read = True\n",
    "    except FileNotFoundError:\n",
    "        try:\n",
    "            with open(file_pmc_json) as f:\n",
    "                text = json.load(f)\n",
    "                read = True\n",
    "        except FileNotFoundError:\n",
    "            text = {\"body_text\":\"No Files Listed Were Found\"}\n",
    "            read = False\n",
    "    \n",
    "    return text\n",
    "    \n",
    "        \n",
    "    "
   ]
  },
  {
   "cell_type": "code",
   "execution_count": 206,
   "metadata": {},
   "outputs": [],
   "source": [
    "covidDF = metadata.dropna(subset=['pdf_json_files', 'pmc_json_files'],thresh=1).sample(100) # Selects a random sample of articles from our collection that have at least 1 json file listed\n",
    "\n",
    "covidDF['Text'] = covidDF.apply(lambda row: read_text_from_json(row,path_to_covid), axis = 1) # read the text using a function to parse the associated file"
   ]
  },
  {
   "cell_type": "markdown",
   "metadata": {},
   "source": [
    "Pulls the body text of the paper for the first row in our sample subset of our data"
   ]
  },
  {
   "cell_type": "code",
   "execution_count": 199,
   "metadata": {},
   "outputs": [
    {
     "data": {
      "text/html": [
       "<div>\n",
       "<style scoped>\n",
       "    .dataframe tbody tr th:only-of-type {\n",
       "        vertical-align: middle;\n",
       "    }\n",
       "\n",
       "    .dataframe tbody tr th {\n",
       "        vertical-align: top;\n",
       "    }\n",
       "\n",
       "    .dataframe thead th {\n",
       "        text-align: right;\n",
       "    }\n",
       "</style>\n",
       "<table border=\"1\" class=\"dataframe\">\n",
       "  <thead>\n",
       "    <tr style=\"text-align: right;\">\n",
       "      <th></th>\n",
       "      <th>cord_uid</th>\n",
       "      <th>sha</th>\n",
       "      <th>source_x</th>\n",
       "      <th>title</th>\n",
       "      <th>doi</th>\n",
       "      <th>pmcid</th>\n",
       "      <th>pubmed_id</th>\n",
       "      <th>license</th>\n",
       "      <th>abstract</th>\n",
       "      <th>publish_time</th>\n",
       "      <th>authors</th>\n",
       "      <th>journal</th>\n",
       "      <th>mag_id</th>\n",
       "      <th>who_covidence_id</th>\n",
       "      <th>arxiv_id</th>\n",
       "      <th>pdf_json_files</th>\n",
       "      <th>pmc_json_files</th>\n",
       "      <th>url</th>\n",
       "      <th>s2_id</th>\n",
       "      <th>Text</th>\n",
       "    </tr>\n",
       "  </thead>\n",
       "  <tbody>\n",
       "    <tr>\n",
       "      <th>193929</th>\n",
       "      <td>8dyaeu2v</td>\n",
       "      <td>40276a234b15f83ca6f70b4956659025fd7b2ae5</td>\n",
       "      <td>Elsevier; Medline; PMC</td>\n",
       "      <td>Persistent rhinovirus infection in pediatric h...</td>\n",
       "      <td>10.1016/j.jcv.2015.03.022</td>\n",
       "      <td>PMC7172262</td>\n",
       "      <td>25959156</td>\n",
       "      <td>no-cc</td>\n",
       "      <td>BACKGROUND: HRV infections are generally self-...</td>\n",
       "      <td>2015-03-31</td>\n",
       "      <td>Piralla, Antonio; Zecca, Marco; Comoli, Patriz...</td>\n",
       "      <td>J Clin Virol</td>\n",
       "      <td>NaN</td>\n",
       "      <td>NaN</td>\n",
       "      <td>NaN</td>\n",
       "      <td>document_parses/pdf_json/40276a234b15f83ca6f70...</td>\n",
       "      <td>document_parses/pmc_json/PMC7172262.xml.json</td>\n",
       "      <td>https://doi.org/10.1016/j.jcv.2015.03.022; htt...</td>\n",
       "      <td>8392293</td>\n",
       "      <td>{'paper_id': '40276a234b15f83ca6f70b4956659025...</td>\n",
       "    </tr>\n",
       "    <tr>\n",
       "      <th>22329</th>\n",
       "      <td>7lgffsh2</td>\n",
       "      <td>9249cd9619f8ea2f256907447cf4438a9fd368b8</td>\n",
       "      <td>PMC</td>\n",
       "      <td>Vaccine Safety</td>\n",
       "      <td>10.1016/b978-0-323-35761-6.00082-1</td>\n",
       "      <td>PMC7173515</td>\n",
       "      <td>NaN</td>\n",
       "      <td>no-cc</td>\n",
       "      <td>NaN</td>\n",
       "      <td>2017-07-17</td>\n",
       "      <td>Destefano, Frank; Offit, Paul A.; Fisher, Allison</td>\n",
       "      <td>Plotkin's Vaccines</td>\n",
       "      <td>NaN</td>\n",
       "      <td>NaN</td>\n",
       "      <td>NaN</td>\n",
       "      <td>document_parses/pdf_json/9249cd9619f8ea2f25690...</td>\n",
       "      <td>document_parses/pmc_json/PMC7173515.xml.json</td>\n",
       "      <td>https://www.ncbi.nlm.nih.gov/pmc/articles/PMC7...</td>\n",
       "      <td>NaN</td>\n",
       "      <td>{'paper_id': '9249cd9619f8ea2f256907447cf4438a...</td>\n",
       "    </tr>\n",
       "    <tr>\n",
       "      <th>25522</th>\n",
       "      <td>7alkvlx2</td>\n",
       "      <td>8c33b15e03d3af2f797ec6c1a1ec451e1162ce29</td>\n",
       "      <td>PMC</td>\n",
       "      <td>Arbeitsfähig mit Flexibilität und Pragmatismus</td>\n",
       "      <td>10.1007/s35114-020-0238-8</td>\n",
       "      <td>PMC7280019</td>\n",
       "      <td>NaN</td>\n",
       "      <td>no-cc</td>\n",
       "      <td>NaN</td>\n",
       "      <td>2020-06-09</td>\n",
       "      <td>Papenkort, ﻿Jörg; Preußner, Philipp</td>\n",
       "      <td>Innov Verwalt</td>\n",
       "      <td>NaN</td>\n",
       "      <td>NaN</td>\n",
       "      <td>NaN</td>\n",
       "      <td>document_parses/pdf_json/8c33b15e03d3af2f797ec...</td>\n",
       "      <td>NaN</td>\n",
       "      <td>https://www.ncbi.nlm.nih.gov/pmc/articles/PMC7...</td>\n",
       "      <td>NaN</td>\n",
       "      <td>{'paper_id': '8c33b15e03d3af2f797ec6c1a1ec451e...</td>\n",
       "    </tr>\n",
       "    <tr>\n",
       "      <th>19701</th>\n",
       "      <td>v10t6kvw</td>\n",
       "      <td>73f5bad27f59343df9604ab16a5af610c9c19f33</td>\n",
       "      <td>PMC</td>\n",
       "      <td>Esophageal cancer spatial and correlation anal...</td>\n",
       "      <td>10.1007/s11442-014-1072-8</td>\n",
       "      <td>PMC7149033</td>\n",
       "      <td>NaN</td>\n",
       "      <td>no-cc</td>\n",
       "      <td>Esophageal cancer exhibits one of the highest ...</td>\n",
       "      <td>2013-12-17</td>\n",
       "      <td>Zhang, Xueyan; Zhuang, Dafang; Ma, Xin; Jiang,...</td>\n",
       "      <td>NaN</td>\n",
       "      <td>NaN</td>\n",
       "      <td>NaN</td>\n",
       "      <td>NaN</td>\n",
       "      <td>document_parses/pdf_json/73f5bad27f59343df9604...</td>\n",
       "      <td>NaN</td>\n",
       "      <td>https://www.ncbi.nlm.nih.gov/pmc/articles/PMC7...</td>\n",
       "      <td>NaN</td>\n",
       "      <td>{'paper_id': '73f5bad27f59343df9604ab16a5af610...</td>\n",
       "    </tr>\n",
       "    <tr>\n",
       "      <th>23140</th>\n",
       "      <td>i6puqauk</td>\n",
       "      <td>1477b1cdf998c498ab4772b27d46e60998a9de56</td>\n",
       "      <td>PMC</td>\n",
       "      <td>Deep Multivariate Time Series Embedding Cluste...</td>\n",
       "      <td>10.1007/978-3-030-47426-3_25</td>\n",
       "      <td>PMC7206254</td>\n",
       "      <td>NaN</td>\n",
       "      <td>no-cc</td>\n",
       "      <td>Nowadays, great quantities of data are produce...</td>\n",
       "      <td>2020-04-17</td>\n",
       "      <td>Ienco, Dino; Interdonato, Roberto</td>\n",
       "      <td>Advances in Knowledge Discovery and Data Mining</td>\n",
       "      <td>NaN</td>\n",
       "      <td>NaN</td>\n",
       "      <td>NaN</td>\n",
       "      <td>document_parses/pdf_json/1477b1cdf998c498ab477...</td>\n",
       "      <td>document_parses/pmc_json/PMC7206254.xml.json</td>\n",
       "      <td>https://www.ncbi.nlm.nih.gov/pmc/articles/PMC7...</td>\n",
       "      <td>NaN</td>\n",
       "      <td>{'paper_id': '1477b1cdf998c498ab4772b27d46e609...</td>\n",
       "    </tr>\n",
       "    <tr>\n",
       "      <th>...</th>\n",
       "      <td>...</td>\n",
       "      <td>...</td>\n",
       "      <td>...</td>\n",
       "      <td>...</td>\n",
       "      <td>...</td>\n",
       "      <td>...</td>\n",
       "      <td>...</td>\n",
       "      <td>...</td>\n",
       "      <td>...</td>\n",
       "      <td>...</td>\n",
       "      <td>...</td>\n",
       "      <td>...</td>\n",
       "      <td>...</td>\n",
       "      <td>...</td>\n",
       "      <td>...</td>\n",
       "      <td>...</td>\n",
       "      <td>...</td>\n",
       "      <td>...</td>\n",
       "      <td>...</td>\n",
       "      <td>...</td>\n",
       "    </tr>\n",
       "    <tr>\n",
       "      <th>227128</th>\n",
       "      <td>jm07z3zk</td>\n",
       "      <td>5bb36fbce1ce7a228b339e244490b2e7148b42c6</td>\n",
       "      <td>Medline; PMC</td>\n",
       "      <td>A Marketing Approach to a Psychological Proble...</td>\n",
       "      <td>10.3390/ijerph17072471</td>\n",
       "      <td>PMC7177352</td>\n",
       "      <td>32260429</td>\n",
       "      <td>cc-by</td>\n",
       "      <td>Background: Smartphones have become an indispe...</td>\n",
       "      <td>2020-04-04</td>\n",
       "      <td>Ertemel, Adnan Veysel; Ari, Ela</td>\n",
       "      <td>Int J Environ Res Public Health</td>\n",
       "      <td>NaN</td>\n",
       "      <td>NaN</td>\n",
       "      <td>NaN</td>\n",
       "      <td>document_parses/pdf_json/5bb36fbce1ce7a228b339...</td>\n",
       "      <td>document_parses/pmc_json/PMC7177352.xml.json</td>\n",
       "      <td>https://www.ncbi.nlm.nih.gov/pubmed/32260429/;...</td>\n",
       "      <td>215410395</td>\n",
       "      <td>{'paper_id': '5bb36fbce1ce7a228b339e244490b2e7...</td>\n",
       "    </tr>\n",
       "    <tr>\n",
       "      <th>231772</th>\n",
       "      <td>65e8ol64</td>\n",
       "      <td>f7ff62013c879bbcaca24b52d09d15b0aa70839b</td>\n",
       "      <td>Medline; PMC</td>\n",
       "      <td>Biochemical Microarrays for Studying Chemical ...</td>\n",
       "      <td>10.1111/j.1747-0285.2005.00326.x</td>\n",
       "      <td>PMC7162007</td>\n",
       "      <td>16492155</td>\n",
       "      <td>no-cc</td>\n",
       "      <td>DiscoveryDot(TM) is a novel solution‐phase tec...</td>\n",
       "      <td>2005-12-21</td>\n",
       "      <td>Horiuchi, Kurumi Y.; Wang, Yuan; Ma, Haiching</td>\n",
       "      <td>Chem Biol Drug Des</td>\n",
       "      <td>NaN</td>\n",
       "      <td>NaN</td>\n",
       "      <td>NaN</td>\n",
       "      <td>document_parses/pdf_json/f7ff62013c879bbcaca24...</td>\n",
       "      <td>document_parses/pmc_json/PMC7162007.xml.json</td>\n",
       "      <td>https://www.ncbi.nlm.nih.gov/pubmed/16492155/</td>\n",
       "      <td>29919012</td>\n",
       "      <td>{'paper_id': 'f7ff62013c879bbcaca24b52d09d15b0...</td>\n",
       "    </tr>\n",
       "    <tr>\n",
       "      <th>206739</th>\n",
       "      <td>k353k8x9</td>\n",
       "      <td>51469a904b145a6b4f0b5a3724e9621929400294</td>\n",
       "      <td>Medline; PMC</td>\n",
       "      <td>Folding of Viral Envelope Glycoproteins in the...</td>\n",
       "      <td>10.1034/j.1600-0854.2000.010702.x</td>\n",
       "      <td>PMC7190097</td>\n",
       "      <td>11208140</td>\n",
       "      <td>no-cc</td>\n",
       "      <td>Viral glycoproteins fold and oligomerize in th...</td>\n",
       "      <td>2002-01-10</td>\n",
       "      <td>Braakman, Ineke; Van Anken, Eelco</td>\n",
       "      <td>Traffic</td>\n",
       "      <td>NaN</td>\n",
       "      <td>NaN</td>\n",
       "      <td>NaN</td>\n",
       "      <td>document_parses/pdf_json/51469a904b145a6b4f0b5...</td>\n",
       "      <td>document_parses/pmc_json/PMC7190097.xml.json</td>\n",
       "      <td>https://www.ncbi.nlm.nih.gov/pubmed/11208140/</td>\n",
       "      <td>21045560</td>\n",
       "      <td>{'paper_id': '51469a904b145a6b4f0b5a3724e96219...</td>\n",
       "    </tr>\n",
       "    <tr>\n",
       "      <th>30351</th>\n",
       "      <td>t9dkn5mp</td>\n",
       "      <td>aa66d9515d520d06f9022dc33a2208e1c8c24904</td>\n",
       "      <td>PMC</td>\n",
       "      <td>Evidence-Based Guidelines for Recording Slide-...</td>\n",
       "      <td>10.1007/s40670-020-01032-w</td>\n",
       "      <td>PMC7394704</td>\n",
       "      <td>NaN</td>\n",
       "      <td>no-cc</td>\n",
       "      <td>Pre-recorded lectures can be an efficient way ...</td>\n",
       "      <td>2020-07-31</td>\n",
       "      <td>Kurzweil, Dina; Meyer, Eric; Marcellas, Karen;...</td>\n",
       "      <td>Med Sci Educ</td>\n",
       "      <td>NaN</td>\n",
       "      <td>NaN</td>\n",
       "      <td>NaN</td>\n",
       "      <td>document_parses/pdf_json/aa66d9515d520d06f9022...</td>\n",
       "      <td>document_parses/pmc_json/PMC7394704.xml.json</td>\n",
       "      <td>https://www.ncbi.nlm.nih.gov/pmc/articles/PMC7...</td>\n",
       "      <td>NaN</td>\n",
       "      <td>{'paper_id': 'aa66d9515d520d06f9022dc33a2208e1...</td>\n",
       "    </tr>\n",
       "    <tr>\n",
       "      <th>22118</th>\n",
       "      <td>8lwnmdeq</td>\n",
       "      <td>ff1cc08ebe7f5a104152662fa87ff683524165c7</td>\n",
       "      <td>PMC</td>\n",
       "      <td>SPECIFIC PROBLEM AREAS</td>\n",
       "      <td>10.1016/b978-0-443-07151-5.50005-6</td>\n",
       "      <td>PMC7170211</td>\n",
       "      <td>NaN</td>\n",
       "      <td>no-cc</td>\n",
       "      <td>NaN</td>\n",
       "      <td>2010-12-29</td>\n",
       "      <td>Scully, Crispian; Diz Dios, Pedro; Kumar, Navdeep</td>\n",
       "      <td>Special Care in Dentistry</td>\n",
       "      <td>NaN</td>\n",
       "      <td>NaN</td>\n",
       "      <td>NaN</td>\n",
       "      <td>document_parses/pdf_json/ff1cc08ebe7f5a1041526...</td>\n",
       "      <td>NaN</td>\n",
       "      <td>https://www.ncbi.nlm.nih.gov/pmc/articles/PMC7...</td>\n",
       "      <td>NaN</td>\n",
       "      <td>{'paper_id': 'ff1cc08ebe7f5a104152662fa87ff683...</td>\n",
       "    </tr>\n",
       "  </tbody>\n",
       "</table>\n",
       "<p>100 rows × 20 columns</p>\n",
       "</div>"
      ],
      "text/plain": [
       "        cord_uid                                       sha  \\\n",
       "193929  8dyaeu2v  40276a234b15f83ca6f70b4956659025fd7b2ae5   \n",
       "22329   7lgffsh2  9249cd9619f8ea2f256907447cf4438a9fd368b8   \n",
       "25522   7alkvlx2  8c33b15e03d3af2f797ec6c1a1ec451e1162ce29   \n",
       "19701   v10t6kvw  73f5bad27f59343df9604ab16a5af610c9c19f33   \n",
       "23140   i6puqauk  1477b1cdf998c498ab4772b27d46e60998a9de56   \n",
       "...          ...                                       ...   \n",
       "227128  jm07z3zk  5bb36fbce1ce7a228b339e244490b2e7148b42c6   \n",
       "231772  65e8ol64  f7ff62013c879bbcaca24b52d09d15b0aa70839b   \n",
       "206739  k353k8x9  51469a904b145a6b4f0b5a3724e9621929400294   \n",
       "30351   t9dkn5mp  aa66d9515d520d06f9022dc33a2208e1c8c24904   \n",
       "22118   8lwnmdeq  ff1cc08ebe7f5a104152662fa87ff683524165c7   \n",
       "\n",
       "                      source_x  \\\n",
       "193929  Elsevier; Medline; PMC   \n",
       "22329                      PMC   \n",
       "25522                      PMC   \n",
       "19701                      PMC   \n",
       "23140                      PMC   \n",
       "...                        ...   \n",
       "227128            Medline; PMC   \n",
       "231772            Medline; PMC   \n",
       "206739            Medline; PMC   \n",
       "30351                      PMC   \n",
       "22118                      PMC   \n",
       "\n",
       "                                                    title  \\\n",
       "193929  Persistent rhinovirus infection in pediatric h...   \n",
       "22329                                      Vaccine Safety   \n",
       "25522      Arbeitsfähig mit Flexibilität und Pragmatismus   \n",
       "19701   Esophageal cancer spatial and correlation anal...   \n",
       "23140   Deep Multivariate Time Series Embedding Cluste...   \n",
       "...                                                   ...   \n",
       "227128  A Marketing Approach to a Psychological Proble...   \n",
       "231772  Biochemical Microarrays for Studying Chemical ...   \n",
       "206739  Folding of Viral Envelope Glycoproteins in the...   \n",
       "30351   Evidence-Based Guidelines for Recording Slide-...   \n",
       "22118                              SPECIFIC PROBLEM AREAS   \n",
       "\n",
       "                                       doi       pmcid pubmed_id license  \\\n",
       "193929           10.1016/j.jcv.2015.03.022  PMC7172262  25959156   no-cc   \n",
       "22329   10.1016/b978-0-323-35761-6.00082-1  PMC7173515       NaN   no-cc   \n",
       "25522            10.1007/s35114-020-0238-8  PMC7280019       NaN   no-cc   \n",
       "19701            10.1007/s11442-014-1072-8  PMC7149033       NaN   no-cc   \n",
       "23140         10.1007/978-3-030-47426-3_25  PMC7206254       NaN   no-cc   \n",
       "...                                    ...         ...       ...     ...   \n",
       "227128              10.3390/ijerph17072471  PMC7177352  32260429   cc-by   \n",
       "231772    10.1111/j.1747-0285.2005.00326.x  PMC7162007  16492155   no-cc   \n",
       "206739   10.1034/j.1600-0854.2000.010702.x  PMC7190097  11208140   no-cc   \n",
       "30351           10.1007/s40670-020-01032-w  PMC7394704       NaN   no-cc   \n",
       "22118   10.1016/b978-0-443-07151-5.50005-6  PMC7170211       NaN   no-cc   \n",
       "\n",
       "                                                 abstract publish_time  \\\n",
       "193929  BACKGROUND: HRV infections are generally self-...   2015-03-31   \n",
       "22329                                                 NaN   2017-07-17   \n",
       "25522                                                 NaN   2020-06-09   \n",
       "19701   Esophageal cancer exhibits one of the highest ...   2013-12-17   \n",
       "23140   Nowadays, great quantities of data are produce...   2020-04-17   \n",
       "...                                                   ...          ...   \n",
       "227128  Background: Smartphones have become an indispe...   2020-04-04   \n",
       "231772  DiscoveryDot(TM) is a novel solution‐phase tec...   2005-12-21   \n",
       "206739  Viral glycoproteins fold and oligomerize in th...   2002-01-10   \n",
       "30351   Pre-recorded lectures can be an efficient way ...   2020-07-31   \n",
       "22118                                                 NaN   2010-12-29   \n",
       "\n",
       "                                                  authors  \\\n",
       "193929  Piralla, Antonio; Zecca, Marco; Comoli, Patriz...   \n",
       "22329   Destefano, Frank; Offit, Paul A.; Fisher, Allison   \n",
       "25522                 Papenkort, ﻿Jörg; Preußner, Philipp   \n",
       "19701   Zhang, Xueyan; Zhuang, Dafang; Ma, Xin; Jiang,...   \n",
       "23140                   Ienco, Dino; Interdonato, Roberto   \n",
       "...                                                   ...   \n",
       "227128                    Ertemel, Adnan Veysel; Ari, Ela   \n",
       "231772      Horiuchi, Kurumi Y.; Wang, Yuan; Ma, Haiching   \n",
       "206739                  Braakman, Ineke; Van Anken, Eelco   \n",
       "30351   Kurzweil, Dina; Meyer, Eric; Marcellas, Karen;...   \n",
       "22118   Scully, Crispian; Diz Dios, Pedro; Kumar, Navdeep   \n",
       "\n",
       "                                                journal mag_id  \\\n",
       "193929                                     J Clin Virol    NaN   \n",
       "22329                                Plotkin's Vaccines    NaN   \n",
       "25522                                     Innov Verwalt    NaN   \n",
       "19701                                               NaN    NaN   \n",
       "23140   Advances in Knowledge Discovery and Data Mining    NaN   \n",
       "...                                                 ...    ...   \n",
       "227128                  Int J Environ Res Public Health    NaN   \n",
       "231772                               Chem Biol Drug Des    NaN   \n",
       "206739                                          Traffic    NaN   \n",
       "30351                                      Med Sci Educ    NaN   \n",
       "22118                         Special Care in Dentistry    NaN   \n",
       "\n",
       "       who_covidence_id arxiv_id  \\\n",
       "193929              NaN      NaN   \n",
       "22329               NaN      NaN   \n",
       "25522               NaN      NaN   \n",
       "19701               NaN      NaN   \n",
       "23140               NaN      NaN   \n",
       "...                 ...      ...   \n",
       "227128              NaN      NaN   \n",
       "231772              NaN      NaN   \n",
       "206739              NaN      NaN   \n",
       "30351               NaN      NaN   \n",
       "22118               NaN      NaN   \n",
       "\n",
       "                                           pdf_json_files  \\\n",
       "193929  document_parses/pdf_json/40276a234b15f83ca6f70...   \n",
       "22329   document_parses/pdf_json/9249cd9619f8ea2f25690...   \n",
       "25522   document_parses/pdf_json/8c33b15e03d3af2f797ec...   \n",
       "19701   document_parses/pdf_json/73f5bad27f59343df9604...   \n",
       "23140   document_parses/pdf_json/1477b1cdf998c498ab477...   \n",
       "...                                                   ...   \n",
       "227128  document_parses/pdf_json/5bb36fbce1ce7a228b339...   \n",
       "231772  document_parses/pdf_json/f7ff62013c879bbcaca24...   \n",
       "206739  document_parses/pdf_json/51469a904b145a6b4f0b5...   \n",
       "30351   document_parses/pdf_json/aa66d9515d520d06f9022...   \n",
       "22118   document_parses/pdf_json/ff1cc08ebe7f5a1041526...   \n",
       "\n",
       "                                      pmc_json_files  \\\n",
       "193929  document_parses/pmc_json/PMC7172262.xml.json   \n",
       "22329   document_parses/pmc_json/PMC7173515.xml.json   \n",
       "25522                                            NaN   \n",
       "19701                                            NaN   \n",
       "23140   document_parses/pmc_json/PMC7206254.xml.json   \n",
       "...                                              ...   \n",
       "227128  document_parses/pmc_json/PMC7177352.xml.json   \n",
       "231772  document_parses/pmc_json/PMC7162007.xml.json   \n",
       "206739  document_parses/pmc_json/PMC7190097.xml.json   \n",
       "30351   document_parses/pmc_json/PMC7394704.xml.json   \n",
       "22118                                            NaN   \n",
       "\n",
       "                                                      url      s2_id  \\\n",
       "193929  https://doi.org/10.1016/j.jcv.2015.03.022; htt...    8392293   \n",
       "22329   https://www.ncbi.nlm.nih.gov/pmc/articles/PMC7...        NaN   \n",
       "25522   https://www.ncbi.nlm.nih.gov/pmc/articles/PMC7...        NaN   \n",
       "19701   https://www.ncbi.nlm.nih.gov/pmc/articles/PMC7...        NaN   \n",
       "23140   https://www.ncbi.nlm.nih.gov/pmc/articles/PMC7...        NaN   \n",
       "...                                                   ...        ...   \n",
       "227128  https://www.ncbi.nlm.nih.gov/pubmed/32260429/;...  215410395   \n",
       "231772      https://www.ncbi.nlm.nih.gov/pubmed/16492155/   29919012   \n",
       "206739      https://www.ncbi.nlm.nih.gov/pubmed/11208140/   21045560   \n",
       "30351   https://www.ncbi.nlm.nih.gov/pmc/articles/PMC7...        NaN   \n",
       "22118   https://www.ncbi.nlm.nih.gov/pmc/articles/PMC7...        NaN   \n",
       "\n",
       "                                                     Text  \n",
       "193929  {'paper_id': '40276a234b15f83ca6f70b4956659025...  \n",
       "22329   {'paper_id': '9249cd9619f8ea2f256907447cf4438a...  \n",
       "25522   {'paper_id': '8c33b15e03d3af2f797ec6c1a1ec451e...  \n",
       "19701   {'paper_id': '73f5bad27f59343df9604ab16a5af610...  \n",
       "23140   {'paper_id': '1477b1cdf998c498ab4772b27d46e609...  \n",
       "...                                                   ...  \n",
       "227128  {'paper_id': '5bb36fbce1ce7a228b339e244490b2e7...  \n",
       "231772  {'paper_id': 'f7ff62013c879bbcaca24b52d09d15b0...  \n",
       "206739  {'paper_id': '51469a904b145a6b4f0b5a3724e96219...  \n",
       "30351   {'paper_id': 'aa66d9515d520d06f9022dc33a2208e1...  \n",
       "22118   {'paper_id': 'ff1cc08ebe7f5a104152662fa87ff683...  \n",
       "\n",
       "[100 rows x 20 columns]"
      ]
     },
     "execution_count": 199,
     "metadata": {},
     "output_type": "execute_result"
    }
   ],
   "source": [
    "covidDF.iloc[0]['Text']['body_text']"
   ]
  },
  {
   "cell_type": "markdown",
   "metadata": {},
   "source": [
    "## Reddit Archive"
   ]
  },
  {
   "cell_type": "markdown",
   "metadata": {},
   "source": [
    "To use Pandas with Reddit, you will need more memory than your typical node. To do this you will want to open a JupyterLab Session on a medium-mem queue. For more information, look at the documentation [here](http://faculty.smu.edu/csc/documentation/slurm.html#maneframe-ii-s-slurm-partitions-queues)."
   ]
  },
  {
   "cell_type": "code",
   "execution_count": null,
   "metadata": {},
   "outputs": [],
   "source": []
  },
  {
   "cell_type": "markdown",
   "metadata": {},
   "source": [
    "If you want to keep the data on disk instead of using a higher memory node, you will need to use a different dataframe library than pandas. Dask will let you do this but it will be very slow."
   ]
  },
  {
   "cell_type": "code",
   "execution_count": null,
   "metadata": {},
   "outputs": [],
   "source": []
  }
 ],
 "metadata": {
  "kernelspec": {
   "display_name": "Python 3",
   "language": "python",
   "name": "python3"
  },
  "language_info": {
   "codemirror_mode": {
    "name": "ipython",
    "version": 3
   },
   "file_extension": ".py",
   "mimetype": "text/x-python",
   "name": "python",
   "nbconvert_exporter": "python",
   "pygments_lexer": "ipython3",
   "version": "3.8.5"
  }
 },
 "nbformat": 4,
 "nbformat_minor": 4
}
